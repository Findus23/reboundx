{
 "cells": [
  {
   "cell_type": "code",
   "execution_count": 1,
   "metadata": {},
   "outputs": [],
   "source": [
    "import numpy as np\n",
    "\n",
    "tms = np.loadtxt('m.txt', delimiter='\\t') # return (N, 2) array\n",
    "times = tms[:, 0]                         # return only 1st col\n",
    "masses = tms[:, 1]                        # return only 2nd col\n",
    "\n",
    "trs = np.loadtxt('r.txt', delimiter='\\t')\n",
    "Rsuns = trs[:, 1]                         # data in Rsun units\n",
    "radii = np.zeros(Rsuns.size)\n",
    "for i, r in enumerate(Rsuns):\n",
    "    radii[i] = r * 0.00465047             # convert Rsun to AU"
   ]
  },
  {
   "cell_type": "code",
   "execution_count": 2,
   "metadata": {
    "scrolled": true
   },
   "outputs": [],
   "source": [
    "import rebound\n",
    "import reboundx\n",
    "\n",
    "M0 = masses[0]                       # initial mass of star\n",
    "R0 = radii[0]                        # initial radius of star\n",
    "\n",
    "def makesim():\n",
    "    sim = rebound.Simulation()\n",
    "    sim.G = 4*np.pi**2               # use units of AU, yrs and solar masses\n",
    "    sim.add(m=M0, r=R0, hash=\"Star\")\n",
    "    sim.add(a=1., hash=\"Earth\")\n",
    "    sim.integrator = \"whfast\"\n",
    "    sim.dt = 0.1*sim.particles[1].P\n",
    "    sim.move_to_com()\n",
    "    return sim\n",
    "sim = makesim()\n",
    "ps = sim.particles"
   ]
  },
  {
   "cell_type": "code",
   "execution_count": 3,
   "metadata": {},
   "outputs": [],
   "source": [
    "rebx = reboundx.Extras(sim)\n",
    "\n",
    "starmass = reboundx.Interpolator(rebx, times, masses, \"spline\")\n",
    "starradius = reboundx.Interpolator(rebx, times, radii, \"spline\")"
   ]
  },
  {
   "cell_type": "code",
   "execution_count": 4,
   "metadata": {},
   "outputs": [
    {
     "name": "stdout",
     "output_type": "stream",
     "text": [
      "mass = nan\n",
      "radius = nan\n"
     ]
    }
   ],
   "source": [
    "T0 = times[0]\n",
    "t = 0\n",
    "print(\"mass =\", starmass.interpolate(rebx, t=T0+t))\n",
    "print(\"radius =\", starradius.interpolate(rebx, t=T0+t))"
   ]
  },
  {
   "cell_type": "markdown",
   "metadata": {},
   "source": [
    "```python\n",
    "# after mass call\n",
    "time=12389504397.534300\n",
    "klo=0\n",
    "times[klo]=12389504397.534300\n",
    "values[klo]=0.864539\n",
    "interpolate=-nan\n",
    "times[klo+1]=12389516724.194000\n",
    "values[klo+1]=0.864211\n",
    "\n",
    "# after radius call\n",
    "time=12389504397.534300\n",
    "klo=0\n",
    "times[klo]=12389504397.534300\n",
    "values[klo]=0.383384\n",
    "interpolate=-nan\n",
    "times[klo+1]=12389516724.194000\n",
    "values[klo+1]=0.384077\n",
    "\n",
    "```"
   ]
  }
 ],
 "metadata": {
  "kernelspec": {
   "display_name": "rebx",
   "language": "python",
   "name": "rebx"
  },
  "language_info": {
   "codemirror_mode": {
    "name": "ipython",
    "version": 3
   },
   "file_extension": ".py",
   "mimetype": "text/x-python",
   "name": "python",
   "nbconvert_exporter": "python",
   "pygments_lexer": "ipython3",
   "version": "3.7.6"
  },
  "widgets": {
   "application/vnd.jupyter.widget-state+json": {
    "state": {},
    "version_major": 2,
    "version_minor": 0
   }
  }
 },
 "nbformat": 4,
 "nbformat_minor": 4
}
