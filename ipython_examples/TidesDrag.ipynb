{
 "cells": [
  {
   "cell_type": "markdown",
   "metadata": {},
   "source": [
    "# Drag from Tides\n",
    "\n",
    "This implementation adds drag from the tidal interactions between a primary body and all other bodies in the simulation, from slowly rotating tides raised on the primary body. The effect assumes all affected particles follow co-planar, circular orbits with respect to the primary's rotational pole.\n",
    "\n",
    "In all cases, we need to set masses for all the particles that will feel these tidal forces. After that, we can choose to include tides raised on the primary by setting its `R_tides` (physical radius), `luminosity` (in units consistent with G), and `tides_lambda2` (a coefficient that depends on the properties of the primary's convective envelope). Note that the `R_tides` parameter can be independently set from the physical radius stored in `rebound.Particle.r`.\n",
    "\n",
    "As an example, we'll add the tidal drag on the Earth induced by slowly rotating tidal bulges raised on a post-main sequence Sun near its tip-RGB phase."
   ]
  },
  {
   "cell_type": "code",
   "execution_count": 1,
   "metadata": {},
   "outputs": [],
   "source": [
    "import rebound\n",
    "sim = rebound.Simulation()\n",
    "sim.units = ('yr', 'AU', 'Msun') \n",
    "sim.add(m=0.86)        # post-MS Sun\n",
    "sim.add(m=3.e-6, a=1.) # Earth\n",
    "sim.move_to_com()\n",
    "ps = sim.particles"
   ]
  },
  {
   "cell_type": "markdown",
   "metadata": {},
   "source": [
    "Now we add the effect and have to set the `R_tides`, `luminosity`, and `tides_lambda2` parameters for the Sun."
   ]
  },
  {
   "cell_type": "code",
   "execution_count": 2,
   "metadata": {},
   "outputs": [],
   "source": [
    "import reboundx\n",
    "rebx = reboundx.Extras(sim)\n",
    "tides = rebx.load_force(\"tides_drag\")\n",
    "rebx.add_force(tides)\n",
    "ps[0].params[\"R_tides\"] = 0.78 # in AU\n",
    "ps[0].params[\"luminosity\"] = 869.5\n",
    "ps[0].params[\"tides_lambda2\"] = 0.023"
   ]
  },
  {
   "cell_type": "markdown",
   "metadata": {},
   "source": [
    "The implementation defaults to treating `sim.particles[0]` as the primary, i.e., the dominant source of tidal drag on the other bodies.  You can also set this flag explicitly (if the primary were at a different index):"
   ]
  },
  {
   "cell_type": "code",
   "execution_count": 3,
   "metadata": {},
   "outputs": [],
   "source": [
    "ps[0].params[\"tides_primary\"] = 0"
   ]
  },
  {
   "cell_type": "markdown",
   "metadata": {},
   "source": [
    "Similarly, you can optionally specify the primary rotational angular velocity by setting `tides_Omega`, which otherwise defaults to zero."
   ]
  },
  {
   "cell_type": "code",
   "execution_count": 4,
   "metadata": {},
   "outputs": [],
   "source": [
    "ps[0].params[\"tides_Omega\"] = 0."
   ]
  },
  {
   "cell_type": "markdown",
   "metadata": {},
   "source": [
    "We'll integrate for 70,000 years and store the Earth's semi-major axis."
   ]
  },
  {
   "cell_type": "code",
   "execution_count": 5,
   "metadata": {},
   "outputs": [],
   "source": [
    "import numpy as np\n",
    "tmax = 7e4\n",
    "Nout=1000\n",
    "\n",
    "pa = np.zeros(Nout)\n",
    "times = np.linspace(0,tmax,Nout)\n",
    "# to plot physical radius of the Sun\n",
    "R0 = 0*times + ps[0].params[\"R_tides\"]"
   ]
  },
  {
   "cell_type": "code",
   "execution_count": 6,
   "metadata": {},
   "outputs": [],
   "source": [
    "for i, time in enumerate(times):\n",
    "    sim.integrate(time)\n",
    "    pa[i] = ps[1].a"
   ]
  },
  {
   "cell_type": "code",
   "execution_count": 7,
   "metadata": {},
   "outputs": [
    {
     "data": {
      "text/plain": [
       "<matplotlib.legend.Legend at 0x7f6ca04458d0>"
      ]
     },
     "execution_count": 7,
     "metadata": {},
     "output_type": "execute_result"
    },
    {
     "data": {
      "image/png": "[encoded data removed]",
      "text/plain": [
       "<Figure size 864x288 with 1 Axes>"
      ]
     },
     "metadata": {
      "needs_background": "light"
     },
     "output_type": "display_data"
    }
   ],
   "source": [
    "%matplotlib inline\n",
    "import matplotlib.pyplot as plt\n",
    "fig, ax = plt.subplots(figsize=(12,4))\n",
    "ax.plot(times, pa, label='$a_{\\oplus}$')\n",
    "ax.plot(times, R0, label='$R_{\\odot}$')\n",
    "ax.set_xlabel('$t$ (yr)', fontsize=24)\n",
    "ax.set_ylabel('(AU)', fontsize=24)\n",
    "ax.legend(fontsize=24, loc='best')"
   ]
  },
  {
   "cell_type": "markdown",
   "metadata": {},
   "source": [
    "As we can see, the tidal drag due to the post-MS Sun causes Earth's orbit to decay into the tip-RGB photosphere."
   ]
  }
 ],
 "metadata": {
  "kernelspec": {
   "display_name": "Python 3",
   "language": "python",
   "name": "python3"
  },
  "language_info": {
   "codemirror_mode": {
    "name": "ipython",
    "version": 3
   },
   "file_extension": ".py",
   "mimetype": "text/x-python",
   "name": "python",
   "nbconvert_exporter": "python",
   "pygments_lexer": "ipython3",
   "version": "3.7.6"
  }
 },
 "nbformat": 4,
 "nbformat_minor": 4
}
