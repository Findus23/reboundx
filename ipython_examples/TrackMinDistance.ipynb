{
 "cells": [
  {
   "cell_type": "markdown",
   "metadata": {},
   "source": [
    "# Tracking a particle's minimum distance\n",
    "\n",
    "While you can always check particles' states after every call to `sim.integrate`, you might want to check for particular conditions every timestep that you would otherwise miss.  You could make the array of times to which you integrate increasingly finer, but this will slow things down, as will writing a Python function that gets called every timestep.  \n",
    "\n",
    "This notebook shows how to keep track of a particle's minimum distance from the central star using REBOUNDx to make sure everything is done quickly in C.  We first create a simulation:"
   ]
  },
  {
   "cell_type": "code",
   "execution_count": 5,
   "metadata": {
    "collapsed": true
   },
   "outputs": [],
   "source": [
    "import rebound\n",
    "import reboundx\n",
    "import numpy as np\n",
    "sim = rebound.Simulation()\n",
    "sim.add(m=1., hash=\"Sun\")\n",
    "sim.add(a=1., e=0.5, f=np.pi)\n",
    "rebx= reboundx.Extras(sim)\n",
    "ps = sim.particles"
   ]
  },
  {
   "cell_type": "markdown",
   "metadata": {},
   "source": [
    "Now we add our effect, and for each particle whose distance we want to track, we have to add a `min_distance` parameter.  This parameter will automatically get updated to lower values any timestep where the particle's distance drops.  "
   ]
  },
  {
   "cell_type": "code",
   "execution_count": 6,
   "metadata": {
    "collapsed": false
   },
   "outputs": [],
   "source": [
    "effect = rebx.add(\"track_min_distance\")\n",
    "ps[1].params[\"min_distance\"] = 5."
   ]
  },
  {
   "cell_type": "markdown",
   "metadata": {
    "collapsed": false
   },
   "source": [
    "By default, the effect calculates the distance from `sim.particles[0]`.  You can specify a different particle through its hash (added as a `min_distance_from` parameter to the particle we want to track).  In this case we could have done the following and got the same result:"
   ]
  },
  {
   "cell_type": "markdown",
   "metadata": {
    "collapsed": true
   },
   "source": [
    "We now integrate as usual, and see that the parameter has been updated:"
   ]
  },
  {
   "cell_type": "code",
   "execution_count": 8,
   "metadata": {
    "collapsed": false
   },
   "outputs": [
    {
     "data": {
      "text/plain": [
       "0.5000213256253688"
      ]
     },
     "execution_count": 8,
     "metadata": {},
     "output_type": "execute_result"
    }
   ],
   "source": [
    "sim.integrate(10.)\n",
    "ps[1].params[\"min_distance\"]"
   ]
  },
  {
   "cell_type": "markdown",
   "metadata": {
    "collapsed": false
   },
   "source": [
    "By default, the effect calculates the distance from `sim.particles[0]`.  You can specify a different particle through its hash (added as a `min_distance_from` parameter to the particle we want to track).  In this case we could have done the following and got the same result:"
   ]
  },
  {
   "cell_type": "code",
   "execution_count": 7,
   "metadata": {
    "collapsed": true
   },
   "outputs": [],
   "source": [
    "ps[1].params[\"min_distance_from\"] = ps[0].hash"
   ]
  },
  {
   "cell_type": "code",
   "execution_count": null,
   "metadata": {
    "collapsed": true
   },
   "outputs": [],
   "source": []
  }
 ],
 "metadata": {
  "kernelspec": {
   "display_name": "Python 3",
   "language": "python",
   "name": "python3"
  },
  "language_info": {
   "codemirror_mode": {
    "name": "ipython",
    "version": 3
   },
   "file_extension": ".py",
   "mimetype": "text/x-python",
   "name": "python",
   "nbconvert_exporter": "python",
   "pygments_lexer": "ipython3",
   "version": "3.5.1"
  }
 },
 "nbformat": 4,
 "nbformat_minor": 0
}
