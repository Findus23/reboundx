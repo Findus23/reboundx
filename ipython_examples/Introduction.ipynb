{
 "cells": [
  {
   "cell_type": "markdown",
   "metadata": {},
   "source": [
    "#REBOUNDx\n",
    "\n",
    "REBOUNDx (x = eXtras) allows you to easily add modifications to REBOUND N-body integrations.  Right now it can add:\n",
    "\n",
    "* Post-Newtonian general relativity corrections\n",
    "* Migration\n",
    "* Eccentricity Damping\n",
    "* Inclination Damping\n",
    "* Pericenter Precession\n",
    "* Nodal Precession\n",
    "* Radiation Forces (radiation pressure & Poynting-Robertson Drag)\n",
    "\n",
    "It is easily extendable to include other effects, so please contact me (tamayo.daniel@gmail.com) if you'd like to work on a new modification and I can help you incorporate it (or even better send me a pull request!)  \n",
    "\n",
    "You always begin by setting up your REBOUND simulation like you normally would, e.g."
   ]
  },
  {
   "cell_type": "code",
   "execution_count": 1,
   "metadata": {
    "collapsed": false
   },
   "outputs": [],
   "source": [
    "import rebound\n",
    "sim = rebound.Simulation()\n",
    "sim.add(m=1.)\n",
    "sim.add(a=1.)"
   ]
  },
  {
   "cell_type": "markdown",
   "metadata": {},
   "source": [
    "To use reboundx, we first import it, and then create a `reboundx.Extras` instance, passing it the simulation we want to modify:"
   ]
  },
  {
   "cell_type": "code",
   "execution_count": 2,
   "metadata": {
    "collapsed": false
   },
   "outputs": [],
   "source": [
    "import reboundx\n",
    "rebx = reboundx.Extras(sim)"
   ]
  },
  {
   "cell_type": "markdown",
   "metadata": {},
   "source": [
    "We then add the modification we are interested in.  We do this with member functions that all follow the same recipe: `'add_'` + the name of the modification.  For example:"
   ]
  },
  {
   "cell_type": "code",
   "execution_count": 3,
   "metadata": {
    "collapsed": true
   },
   "outputs": [],
   "source": [
    "rebx.add_modify_orbits_forces()"
   ]
  },
  {
   "cell_type": "markdown",
   "metadata": {},
   "source": [
    "The `rebx` instance of `reboundx.Extras` holds member classes for each of the available modifications.  In all cases, the member class with the parameters has the same name you used when you added the modification, e.g. `rebx.modify_orbits_forces`.  These each have general parameters for the particular modification, e.g., the `gr` modification has a member for the speed of light, `rebx.gr.c`, which you're free to set (in this case if you want to use a particular set of units):"
   ]
  },
  {
   "cell_type": "code",
   "execution_count": 4,
   "metadata": {
    "collapsed": false
   },
   "outputs": [],
   "source": [
    "rebx.gr.c = 3.e8"
   ]
  },
  {
   "cell_type": "markdown",
   "metadata": {},
   "source": [
    "In addition, there are particle-specific parameters.  These can be set directly through the particle:"
   ]
  },
  {
   "cell_type": "code",
   "execution_count": 5,
   "metadata": {
    "collapsed": true
   },
   "outputs": [],
   "source": [
    "sim.particles[1].tau_a = -1000."
   ]
  },
  {
   "cell_type": "markdown",
   "metadata": {},
   "source": [
    "Here we set the timescale for semimajor axis decay for `particles[1]`.  Each modification has its own set of parameters, so you should check the appropriate iPython example for the effect you wish to include. \n",
    "\n",
    "You can add as many modifications as you'd like in the same simulation.  Simply add them:"
   ]
  },
  {
   "cell_type": "code",
   "execution_count": 6,
   "metadata": {
    "collapsed": true
   },
   "outputs": [],
   "source": [
    "rebx.add_gr()"
   ]
  },
  {
   "cell_type": "markdown",
   "metadata": {
    "collapsed": true
   },
   "source": [
    "When you're done setting up the modifications you want, you just run your REBOUND simulation like you normally would:"
   ]
  },
  {
   "cell_type": "code",
   "execution_count": 7,
   "metadata": {
    "collapsed": false
   },
   "outputs": [],
   "source": [
    "sim.integrate(100.)"
   ]
  },
  {
   "cell_type": "markdown",
   "metadata": {},
   "source": [
    "Check out the other ipython examples for more concrete examples of the various modifications."
   ]
  },
  {
   "cell_type": "code",
   "execution_count": null,
   "metadata": {
    "collapsed": true
   },
   "outputs": [],
   "source": []
  }
 ],
 "metadata": {
  "kernelspec": {
   "display_name": "Python 3",
   "language": "python",
   "name": "python3"
  },
  "language_info": {
   "codemirror_mode": {
    "name": "ipython",
    "version": 3
   },
   "file_extension": ".py",
   "mimetype": "text/x-python",
   "name": "python",
   "nbconvert_exporter": "python",
   "pygments_lexer": "ipython3",
   "version": "3.4.3"
  }
 },
 "nbformat": 4,
 "nbformat_minor": 0
}
