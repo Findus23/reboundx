{
 "cells": [
  {
   "cell_type": "code",
   "execution_count": 1,
   "metadata": {},
   "outputs": [],
   "source": [
    "import numpy as np\n",
    "import mesa_reader as mr\n",
    "\n",
    "mesa = mr.MesaData('history_to_end_agb.data')\n",
    "times = mesa.star_age   # in yr\n",
    "masses = mesa.star_mass # in Msun\n",
    "Rsuns = mesa.radius     # in Rsun\n",
    "\n",
    "radii = np.zeros(Rsuns.size)\n",
    "for i, rad in enumerate(Rsuns):\n",
    "    radii[i] = rad * 0.00465047 # convert Rsun units to AU"
   ]
  },
  {
   "cell_type": "code",
   "execution_count": 2,
   "metadata": {
    "scrolled": true
   },
   "outputs": [],
   "source": [
    "import rebound\n",
    "import reboundx\n",
    "\n",
    "M0 = 0.8645388227818771 # initial mass of star\n",
    "R0 = 0.3833838293200158 # initial radius of star\n",
    "\n",
    "def makesim():\n",
    "    sim = rebound.Simulation()\n",
    "    sim.G = 4*np.pi**2               # use units of AU, yrs and solar masses\n",
    "    sim.add(m=M0, r=R0, hash=\"Star\")\n",
    "    sim.add(a=1., hash=\"Earth\")\n",
    "    sim.integrator = \"whfast\"\n",
    "    sim.dt = 0.1*sim.particles[1].P\n",
    "    sim.move_to_com()\n",
    "    return sim\n",
    "sim = makesim()\n",
    "ps = sim.particles"
   ]
  },
  {
   "cell_type": "code",
   "execution_count": 3,
   "metadata": {},
   "outputs": [],
   "source": [
    "rebx = reboundx.Extras(sim)\n",
    "\n",
    "starmass = reboundx.Interpolator(rebx, times, masses, \"spline\")\n",
    "starradius = reboundx.Interpolator(rebx, times, radii, \"spline\")"
   ]
  },
  {
   "cell_type": "code",
   "execution_count": 4,
   "metadata": {},
   "outputs": [
    {
     "name": "stdout",
     "output_type": "stream",
     "text": [
      "mass = 0.9900347537038741\n",
      "radius = 0.03480651631067376\n"
     ]
    }
   ],
   "source": [
    "T0 = times[0]\n",
    "t = 0\n",
    "print(\"mass =\", starmass.interpolate(rebx, t=T0+t))\n",
    "print(\"radius =\", starradius.interpolate(rebx, t=T0+t))"
   ]
  },
  {
   "cell_type": "markdown",
   "metadata": {},
   "source": [
    "```python\n",
    "# after mass call\n",
    "time=12275000469.593370\n",
    "klo=0\n",
    "times[klo]=12275000469.593370\n",
    "values[klo]=0.990035\n",
    "interpolate=0.990035\n",
    "times[klo+1]=12275645582.720903\n",
    "values[klo+1]=0.990000\n",
    "\n",
    "# after radius call\n",
    "time=12275000469.593370\n",
    "klo=0\n",
    "times[klo]=12275000469.593370\n",
    "values[klo]=0.034807\n",
    "interpolate=0.034807\n",
    "times[klo+1]=12275645582.720903\n",
    "values[klo+1]=0.034861\n",
    "```"
   ]
  }
 ],
 "metadata": {
  "kernelspec": {
   "display_name": "rebx",
   "language": "python",
   "name": "rebx"
  },
  "language_info": {
   "codemirror_mode": {
    "name": "ipython",
    "version": 3
   },
   "file_extension": ".py",
   "mimetype": "text/x-python",
   "name": "python",
   "nbconvert_exporter": "python",
   "pygments_lexer": "ipython3",
   "version": "3.7.6"
  },
  "widgets": {
   "application/vnd.jupyter.widget-state+json": {
    "state": {},
    "version_major": 2,
    "version_minor": 0
   }
  }
 },
 "nbformat": 4,
 "nbformat_minor": 4
}
