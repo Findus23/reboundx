{
 "cells": [
  {
   "cell_type": "markdown",
   "metadata": {},
   "source": [
    "# Precession from Tides\n",
    "\n",
    "This implementation adds precession from the tidal interactions between a primary body and all other bodies in the simulation.  It includes tides raised on the primary as well as on the other bodies.  \n",
    "\n",
    "In all cases, we need to set masses for all the particles that will feel these tidal forces.  After that, we can choose to include tides raised on the primary, on the \"planets\", or both, by setting the respective bodies' physical radii and $k_2$ Love number.\n",
    "\n",
    "As an example, we'll add the tidal precession induced by tides raised on the central star.  We therefore need to give the central body a physical radius:"
   ]
  },
  {
   "cell_type": "code",
   "execution_count": 7,
   "metadata": {
    "collapsed": true
   },
   "outputs": [],
   "source": [
    "import rebound\n",
    "sim = rebound.Simulation()\n",
    "sim.add(m=1., r=0.005) # radius in same units of distance (here G=1, so AU)\n",
    "sim.add(m=1.e-3, a=0.1, e=0.2)\n",
    "sim.add(a=5, e=0.2) # didn't give a mass.  Will not feel tidal precession.\n",
    "sim.move_to_com()\n",
    "ps = sim.particles"
   ]
  },
  {
   "cell_type": "markdown",
   "metadata": {},
   "source": [
    "Now we add the effect, and have to set the $k_2$ parameter for the star."
   ]
  },
  {
   "cell_type": "code",
   "execution_count": 8,
   "metadata": {
    "collapsed": false
   },
   "outputs": [],
   "source": [
    "import reboundx\n",
    "rebx = reboundx.Extras(sim)\n",
    "tides = rebx.add(\"tides_precession\")\n",
    "ps[0].params[\"k2\"] = 0.3"
   ]
  },
  {
   "cell_type": "markdown",
   "metadata": {},
   "source": [
    "The implementation defaults to treating `sim.particles[0]` as the primary.  You can also set this flag explicitly (if the primary were at a different index):"
   ]
  },
  {
   "cell_type": "code",
   "execution_count": 9,
   "metadata": {
    "collapsed": true
   },
   "outputs": [],
   "source": [
    "ps[0].params[\"primary\"] = 1"
   ]
  },
  {
   "cell_type": "markdown",
   "metadata": {},
   "source": [
    "We'll integrate for 1000 years, store the two planets' pericenter positions, and keep track of the energy error (this force is conservative).  To get the full hamiltonian, we have to add the classical energy to the potential from precession."
   ]
  },
  {
   "cell_type": "code",
   "execution_count": 10,
   "metadata": {
    "collapsed": true
   },
   "outputs": [],
   "source": [
    "import numpy as np\n",
    "H0 = sim.calculate_energy() + rebx.tides_precession_hamiltonian(sim, tides)\n",
    "tmax = 1000\n",
    "Nout=1000\n",
    "\n",
    "pomega1, pomega2, Eerr = np.zeros(Nout), np.zeros(Nout), np.zeros(Nout)\n",
    "times = np.linspace(0,tmax,Nout)"
   ]
  },
  {
   "cell_type": "code",
   "execution_count": 11,
   "metadata": {
    "collapsed": false
   },
   "outputs": [],
   "source": [
    "for i, time in enumerate(times):\n",
    "    sim.integrate(time)\n",
    "    pomega1[i] = ps[1].pomega\n",
    "    pomega2[i] = ps[2].pomega\n",
    "    H = sim.calculate_energy() + rebx.tides_precession_hamiltonian(sim, tides)\n",
    "    Eerr[i] = abs((H-H0)/H0)"
   ]
  },
  {
   "cell_type": "code",
   "execution_count": 12,
   "metadata": {
    "collapsed": false
   },
   "outputs": [
    {
     "data": {
      "text/plain": [
       "<matplotlib.text.Text at 0x104fa8c50>"
      ]
     },
     "execution_count": 12,
     "metadata": {},
     "output_type": "execute_result"
    },
    {
     "data": {
      "image/png": "[encoded data removed]",
      "text/plain": [
       "<matplotlib.figure.Figure at 0x10ca01860>"
      ]
     },
     "metadata": {},
     "output_type": "display_data"
    }
   ],
   "source": [
    "%matplotlib inline\n",
    "import matplotlib.pyplot as plt\n",
    "fig, axarr = plt.subplots(nrows=2)\n",
    "axarr[0].plot(times, pomega1, label=\"pomega1\")\n",
    "axarr[0].plot(times, pomega2, label=\"pomega2\")\n",
    "axarr[0].set_ylabel(\"Pericenter\")\n",
    "axarr[0].legend()\n",
    "axarr[1].plot(times, Eerr, '.')\n",
    "axarr[1].set_xscale('log')\n",
    "axarr[1].set_yscale('log')\n",
    "axarr[1].set_xlabel('Time')\n",
    "axarr[1].set_ylabel('Energy Error')"
   ]
  },
  {
   "cell_type": "markdown",
   "metadata": {
    "collapsed": true
   },
   "source": [
    "Because we didn't set a mass of the outer planet (so it defaulted to 0), the outer body did not feel tidal precession.  Nevertheless it precesses due to the gravity of the inner body.  The inner body feels no precession from the outer test particle, but precesses due to tides raised on the central star.  \n",
    "\n",
    "To turn on tides raised on the planets, we would simply set their respective physical radii and $k_2$ parameters."
   ]
  },
  {
   "cell_type": "code",
   "execution_count": null,
   "metadata": {
    "collapsed": true
   },
   "outputs": [],
   "source": []
  }
 ],
 "metadata": {
  "kernelspec": {
   "display_name": "Python 3",
   "language": "python",
   "name": "python3"
  },
  "language_info": {
   "codemirror_mode": {
    "name": "ipython",
    "version": 3
   },
   "file_extension": ".py",
   "mimetype": "text/x-python",
   "name": "python",
   "nbconvert_exporter": "python",
   "pygments_lexer": "ipython3",
   "version": "3.5.1"
  }
 },
 "nbformat": 4,
 "nbformat_minor": 0
}
