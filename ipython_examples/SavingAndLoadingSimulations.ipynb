{
 "cells": [
  {
   "cell_type": "code",
   "execution_count": 1,
   "metadata": {
    "collapsed": false
   },
   "outputs": [],
   "source": [
    "import rebound\n",
    "import reboundx\n",
    "import numpy as np"
   ]
  },
  {
   "cell_type": "code",
   "execution_count": 2,
   "metadata": {
    "collapsed": false
   },
   "outputs": [],
   "source": [
    "sim = rebound.Simulation()\n",
    "sim.add(m=1.,r=0.2)\n",
    "sim.add(a=8.,e=0.9999, f=np.pi)\n",
    "sim.add(a=16.)\n",
    "ps = sim.particles\n",
    "rebx = reboundx.Extras(sim)\n",
    "gr = rebx.add(\"gr\")\n",
    "gr.params[\"c\"] = 3.e8"
   ]
  },
  {
   "cell_type": "code",
   "execution_count": 3,
   "metadata": {
    "collapsed": false
   },
   "outputs": [],
   "source": [
    "import numpy as np\n",
    "test = np.array([[[1,2], [3,4], [5,6]], [[7,8], [9,10], [11,12]], [[13,14], [15,16], [17,18]], [[19,20], [21,22], [23,24]]])\n",
    "ps[1].params[\"test\"] = test"
   ]
  },
  {
   "cell_type": "code",
   "execution_count": 4,
   "metadata": {
    "collapsed": false
   },
   "outputs": [
    {
     "name": "stdout",
     "output_type": "stream",
     "text": [
      "[[[ 1  2]\n",
      "  [ 3  4]\n",
      "  [ 5  6]]\n",
      "\n",
      " [[ 7  8]\n",
      "  [ 9 10]\n",
      "  [11 12]]\n",
      "\n",
      " [[13 14]\n",
      "  [15 16]\n",
      "  [17 18]]\n",
      "\n",
      " [[19 20]\n",
      "  [21 22]\n",
      "  [23 24]]]\n"
     ]
    }
   ],
   "source": [
    "print(ps[1].params[\"test\"])"
   ]
  },
  {
   "cell_type": "code",
   "execution_count": 5,
   "metadata": {
    "collapsed": false
   },
   "outputs": [],
   "source": [
    "rebx.save(\"test.bin\")"
   ]
  },
  {
   "cell_type": "code",
   "execution_count": 6,
   "metadata": {
    "collapsed": false
   },
   "outputs": [],
   "source": [
    "sim = rebound.Simulation()\n",
    "sim.add(m=1.,r=0.2)\n",
    "sim.add(a=8.,e=0.9999, f=np.pi)\n",
    "sim.add(a=16.)\n",
    "ps = sim.particles"
   ]
  },
  {
   "cell_type": "code",
   "execution_count": 7,
   "metadata": {
    "collapsed": false
   },
   "outputs": [],
   "source": [
    "rebx2 = reboundx.Extras.from_file(sim, \"test.bin\")"
   ]
  },
  {
   "cell_type": "code",
   "execution_count": 8,
   "metadata": {
    "collapsed": false
   },
   "outputs": [],
   "source": [
    "gr = rebx2.get_effect(\"gr\")"
   ]
  },
  {
   "cell_type": "code",
   "execution_count": 9,
   "metadata": {
    "collapsed": false
   },
   "outputs": [
    {
     "data": {
      "text/plain": [
       "300000000.0"
      ]
     },
     "execution_count": 9,
     "metadata": {},
     "output_type": "execute_result"
    }
   ],
   "source": [
    "gr.params[\"c\"]"
   ]
  },
  {
   "cell_type": "code",
   "execution_count": 10,
   "metadata": {
    "collapsed": false
   },
   "outputs": [
    {
     "data": {
      "text/plain": [
       "array([[[ 1,  2],\n",
       "        [ 3,  4],\n",
       "        [ 5,  6]],\n",
       "\n",
       "       [[ 7,  8],\n",
       "        [ 9, 10],\n",
       "        [11, 12]],\n",
       "\n",
       "       [[13, 14],\n",
       "        [15, 16],\n",
       "        [17, 18]],\n",
       "\n",
       "       [[19, 20],\n",
       "        [21, 22],\n",
       "        [23, 24]]], dtype=int32)"
      ]
     },
     "execution_count": 10,
     "metadata": {},
     "output_type": "execute_result"
    }
   ],
   "source": [
    "ps[1].params[\"test\"]"
   ]
  },
  {
   "cell_type": "code",
   "execution_count": 24,
   "metadata": {
    "collapsed": false
   },
   "outputs": [
    {
     "data": {
      "text/plain": [
       "(4, 3, 2)"
      ]
     },
     "execution_count": 24,
     "metadata": {},
     "output_type": "execute_result"
    }
   ],
   "source": [
    "test.shape"
   ]
  },
  {
   "cell_type": "code",
   "execution_count": 4,
   "metadata": {
    "collapsed": false
   },
   "outputs": [],
   "source": [
    "import numpy as np\n",
    "o1 = sim.particles[1].orbit\n",
    "o2 = sim.particles[2].orbit\n",
    "objndarray = np.array([[[o1,o2],[o2,o1],[o1,o1]], [[o1,o2],[o2,o1],[o1,o1]],[[o1,o2],[o2,o1],[o1,o1]],[[o1,o2],[o2,o1],[o1,o1]]], dtype=object)"
   ]
  },
  {
   "cell_type": "code",
   "execution_count": 17,
   "metadata": {
    "collapsed": false
   },
   "outputs": [
    {
     "name": "stdout",
     "output_type": "stream",
     "text": [
      "<rebound.Orbit instance, a=15.999999999999996 e=1.3704315460216779e-16 inc=0.0 Omega=0.0 omega=3.133296326794899 f=-1.570796326794898>\n"
     ]
    }
   ],
   "source": [
    "print(objndarray[0][1][0])"
   ]
  },
  {
   "cell_type": "code",
   "execution_count": 5,
   "metadata": {
    "collapsed": true
   },
   "outputs": [],
   "source": [
    "sim.particles[1].params[\"objndarray\"] = objndarray"
   ]
  },
  {
   "cell_type": "code",
   "execution_count": 6,
   "metadata": {
    "collapsed": false
   },
   "outputs": [
    {
     "name": "stdout",
     "output_type": "stream",
     "text": [
      "<rebound.Orbit instance, a=8.000000000001613 e=0.9999000000000001 inc=0.0 Omega=0.0 omega=0.0 f=3.133732126499554>\n",
      "<rebound.Orbit instance, a=15.999999999999996 e=1.3704315460216779e-16 inc=0.0 Omega=0.0 omega=3.133296326794899 f=-1.570796326794898>\n",
      "<rebound.Orbit instance, a=15.999999999999996 e=1.3704315460216779e-16 inc=0.0 Omega=0.0 omega=3.133296326794899 f=-1.570796326794898>\n",
      "<rebound.Orbit instance, a=8.000000000001613 e=0.9999000000000001 inc=0.0 Omega=0.0 omega=0.0 f=3.133732126499554>\n",
      "<rebound.Orbit instance, a=8.000000000001613 e=0.9999000000000001 inc=0.0 Omega=0.0 omega=0.0 f=3.133732126499554>\n",
      "<rebound.Orbit instance, a=8.000000000001613 e=0.9999000000000001 inc=0.0 Omega=0.0 omega=0.0 f=3.133732126499554>\n",
      "<rebound.Orbit instance, a=8.000000000001613 e=0.9999000000000001 inc=0.0 Omega=0.0 omega=0.0 f=3.133732126499554>\n",
      "<rebound.Orbit instance, a=15.999999999999996 e=1.3704315460216779e-16 inc=0.0 Omega=0.0 omega=3.133296326794899 f=-1.570796326794898>\n",
      "<rebound.Orbit instance, a=15.999999999999996 e=1.3704315460216779e-16 inc=0.0 Omega=0.0 omega=3.133296326794899 f=-1.570796326794898>\n",
      "<rebound.Orbit instance, a=8.000000000001613 e=0.9999000000000001 inc=0.0 Omega=0.0 omega=0.0 f=3.133732126499554>\n",
      "<rebound.Orbit instance, a=8.000000000001613 e=0.9999000000000001 inc=0.0 Omega=0.0 omega=0.0 f=3.133732126499554>\n",
      "<rebound.Orbit instance, a=8.000000000001613 e=0.9999000000000001 inc=0.0 Omega=0.0 omega=0.0 f=3.133732126499554>\n",
      "<rebound.Orbit instance, a=8.000000000001613 e=0.9999000000000001 inc=0.0 Omega=0.0 omega=0.0 f=3.133732126499554>\n",
      "<rebound.Orbit instance, a=15.999999999999996 e=1.3704315460216779e-16 inc=0.0 Omega=0.0 omega=3.133296326794899 f=-1.570796326794898>\n",
      "<rebound.Orbit instance, a=15.999999999999996 e=1.3704315460216779e-16 inc=0.0 Omega=0.0 omega=3.133296326794899 f=-1.570796326794898>\n",
      "<rebound.Orbit instance, a=8.000000000001613 e=0.9999000000000001 inc=0.0 Omega=0.0 omega=0.0 f=3.133732126499554>\n",
      "<rebound.Orbit instance, a=8.000000000001613 e=0.9999000000000001 inc=0.0 Omega=0.0 omega=0.0 f=3.133732126499554>\n",
      "<rebound.Orbit instance, a=8.000000000001613 e=0.9999000000000001 inc=0.0 Omega=0.0 omega=0.0 f=3.133732126499554>\n",
      "<rebound.Orbit instance, a=8.000000000001613 e=0.9999000000000001 inc=0.0 Omega=0.0 omega=0.0 f=3.133732126499554>\n",
      "<rebound.Orbit instance, a=15.999999999999996 e=1.3704315460216779e-16 inc=0.0 Omega=0.0 omega=3.133296326794899 f=-1.570796326794898>\n",
      "<rebound.Orbit instance, a=15.999999999999996 e=1.3704315460216779e-16 inc=0.0 Omega=0.0 omega=3.133296326794899 f=-1.570796326794898>\n",
      "<rebound.Orbit instance, a=8.000000000001613 e=0.9999000000000001 inc=0.0 Omega=0.0 omega=0.0 f=3.133732126499554>\n",
      "<rebound.Orbit instance, a=8.000000000001613 e=0.9999000000000001 inc=0.0 Omega=0.0 omega=0.0 f=3.133732126499554>\n",
      "<rebound.Orbit instance, a=8.000000000001613 e=0.9999000000000001 inc=0.0 Omega=0.0 omega=0.0 f=3.133732126499554>\n"
     ]
    }
   ],
   "source": [
    "q = sim.particles[1].params[\"objndarray\"] "
   ]
  },
  {
   "cell_type": "code",
   "execution_count": 11,
   "metadata": {
    "collapsed": false
   },
   "outputs": [
    {
     "name": "stdout",
     "output_type": "stream",
     "text": [
      "<rebound.Orbit instance, a=4.0 e=0.7000000000000001 inc=0.0 Omega=0.0 omega=0.0 f=0.0>\n"
     ]
    }
   ],
   "source": [
    "print(q[0][1][0])"
   ]
  },
  {
   "cell_type": "code",
   "execution_count": 13,
   "metadata": {
    "collapsed": false
   },
   "outputs": [
    {
     "data": {
      "text/plain": [
       "True"
      ]
     },
     "execution_count": 13,
     "metadata": {},
     "output_type": "execute_result"
    }
   ],
   "source": [
    "q.shape == objndarray.shape"
   ]
  },
  {
   "cell_type": "code",
   "execution_count": 15,
   "metadata": {
    "collapsed": false
   },
   "outputs": [
    {
     "name": "stdout",
     "output_type": "stream",
     "text": [
      "<rebound.Orbit instance, a=1.0000000000000002 e=0.20000000000000018 inc=0.0 Omega=0.0 omega=0.0 f=0.0>\n",
      "<rebound.Orbit instance, a=4.0 e=0.7000000000000001 inc=0.0 Omega=0.0 omega=0.0 f=0.0>\n",
      "<rebound.Orbit instance, a=4.0 e=0.7000000000000001 inc=0.0 Omega=0.0 omega=0.0 f=0.0>\n",
      "<rebound.Orbit instance, a=1.0000000000000002 e=0.20000000000000018 inc=0.0 Omega=0.0 omega=0.0 f=0.0>\n",
      "<rebound.Orbit instance, a=1.0000000000000002 e=0.20000000000000018 inc=0.0 Omega=0.0 omega=0.0 f=0.0>\n",
      "<rebound.Orbit instance, a=1.0000000000000002 e=0.20000000000000018 inc=0.0 Omega=0.0 omega=0.0 f=0.0>\n",
      "<rebound.Orbit instance, a=1.0000000000000002 e=0.20000000000000018 inc=0.0 Omega=0.0 omega=0.0 f=0.0>\n",
      "<rebound.Orbit instance, a=4.0 e=0.7000000000000001 inc=0.0 Omega=0.0 omega=0.0 f=0.0>\n",
      "<rebound.Orbit instance, a=4.0 e=0.7000000000000001 inc=0.0 Omega=0.0 omega=0.0 f=0.0>\n",
      "<rebound.Orbit instance, a=1.0000000000000002 e=0.20000000000000018 inc=0.0 Omega=0.0 omega=0.0 f=0.0>\n",
      "<rebound.Orbit instance, a=1.0000000000000002 e=0.20000000000000018 inc=0.0 Omega=0.0 omega=0.0 f=0.0>\n",
      "<rebound.Orbit instance, a=1.0000000000000002 e=0.20000000000000018 inc=0.0 Omega=0.0 omega=0.0 f=0.0>\n",
      "<rebound.Orbit instance, a=1.0000000000000002 e=0.20000000000000018 inc=0.0 Omega=0.0 omega=0.0 f=0.0>\n",
      "<rebound.Orbit instance, a=4.0 e=0.7000000000000001 inc=0.0 Omega=0.0 omega=0.0 f=0.0>\n",
      "<rebound.Orbit instance, a=4.0 e=0.7000000000000001 inc=0.0 Omega=0.0 omega=0.0 f=0.0>\n",
      "<rebound.Orbit instance, a=1.0000000000000002 e=0.20000000000000018 inc=0.0 Omega=0.0 omega=0.0 f=0.0>\n",
      "<rebound.Orbit instance, a=1.0000000000000002 e=0.20000000000000018 inc=0.0 Omega=0.0 omega=0.0 f=0.0>\n",
      "<rebound.Orbit instance, a=1.0000000000000002 e=0.20000000000000018 inc=0.0 Omega=0.0 omega=0.0 f=0.0>\n",
      "<rebound.Orbit instance, a=1.0000000000000002 e=0.20000000000000018 inc=0.0 Omega=0.0 omega=0.0 f=0.0>\n",
      "<rebound.Orbit instance, a=4.0 e=0.7000000000000001 inc=0.0 Omega=0.0 omega=0.0 f=0.0>\n",
      "<rebound.Orbit instance, a=4.0 e=0.7000000000000001 inc=0.0 Omega=0.0 omega=0.0 f=0.0>\n",
      "<rebound.Orbit instance, a=1.0000000000000002 e=0.20000000000000018 inc=0.0 Omega=0.0 omega=0.0 f=0.0>\n",
      "<rebound.Orbit instance, a=1.0000000000000002 e=0.20000000000000018 inc=0.0 Omega=0.0 omega=0.0 f=0.0>\n",
      "<rebound.Orbit instance, a=1.0000000000000002 e=0.20000000000000018 inc=0.0 Omega=0.0 omega=0.0 f=0.0>\n"
     ]
    }
   ],
   "source": [
    "for i in q.flatten():\n",
    "    print(i)"
   ]
  },
  {
   "cell_type": "code",
   "execution_count": 4,
   "metadata": {
    "collapsed": true
   },
   "outputs": [],
   "source": [
    "sim.particles[1].params[\"a\"] = [1.,2.,3.,4.]"
   ]
  },
  {
   "cell_type": "code",
   "execution_count": 5,
   "metadata": {
    "collapsed": false
   },
   "outputs": [
    {
     "data": {
      "text/plain": [
       "array([ 1.,  2.,  3.,  4.])"
      ]
     },
     "execution_count": 5,
     "metadata": {},
     "output_type": "execute_result"
    }
   ],
   "source": [
    "sim.particles[1].params[\"a\"]"
   ]
  },
  {
   "cell_type": "code",
   "execution_count": 6,
   "metadata": {
    "collapsed": true
   },
   "outputs": [],
   "source": [
    "q = sim.particles[1].params[\"a\"]"
   ]
  },
  {
   "cell_type": "code",
   "execution_count": 7,
   "metadata": {
    "collapsed": true
   },
   "outputs": [],
   "source": [
    "q[2] = 927"
   ]
  },
  {
   "cell_type": "code",
   "execution_count": 8,
   "metadata": {
    "collapsed": false
   },
   "outputs": [
    {
     "data": {
      "text/plain": [
       "array([   1.,    2.,  927.,    4.])"
      ]
     },
     "execution_count": 8,
     "metadata": {},
     "output_type": "execute_result"
    }
   ],
   "source": [
    "sim.particles[1].params[\"a\"]"
   ]
  },
  {
   "cell_type": "code",
   "execution_count": 9,
   "metadata": {
    "collapsed": false
   },
   "outputs": [],
   "source": [
    "sim.particles[1].params[\"test\"] = [ps[1].orbit, ps[2].orbit]"
   ]
  },
  {
   "cell_type": "code",
   "execution_count": 12,
   "metadata": {
    "collapsed": false
   },
   "outputs": [],
   "source": [
    "q = sim.particles[1].params[\"test\"]"
   ]
  },
  {
   "cell_type": "code",
   "execution_count": 13,
   "metadata": {
    "collapsed": false
   },
   "outputs": [
    {
     "name": "stdout",
     "output_type": "stream",
     "text": [
      "<rebound.Orbit instance, a=4.0 e=0.7000000000000001 inc=0.0 Omega=0.0 omega=0.0 f=0.0>\n"
     ]
    }
   ],
   "source": [
    "print(q[1])"
   ]
  },
  {
   "cell_type": "code",
   "execution_count": 14,
   "metadata": {
    "collapsed": true
   },
   "outputs": [],
   "source": [
    "q[1].a = 7"
   ]
  },
  {
   "cell_type": "code",
   "execution_count": 15,
   "metadata": {
    "collapsed": false
   },
   "outputs": [
    {
     "name": "stdout",
     "output_type": "stream",
     "text": [
      "<rebound.Orbit instance, a=7.0 e=0.7000000000000001 inc=0.0 Omega=0.0 omega=0.0 f=0.0>\n"
     ]
    }
   ],
   "source": [
    "print(sim.particles[1].params[\"test\"][1])"
   ]
  },
  {
   "cell_type": "code",
   "execution_count": 16,
   "metadata": {
    "collapsed": false
   },
   "outputs": [
    {
     "data": {
      "text/plain": [
       "4"
      ]
     },
     "execution_count": 16,
     "metadata": {},
     "output_type": "execute_result"
    }
   ],
   "source": [
    "q.contents._length_"
   ]
  },
  {
   "cell_type": "code",
   "execution_count": 18,
   "metadata": {
    "collapsed": false
   },
   "outputs": [],
   "source": [
    "import numpy as np\n",
    "a = np.array([q.contents[i] for i in range(q.contents._length_)], dtype=object)"
   ]
  },
  {
   "cell_type": "code",
   "execution_count": 19,
   "metadata": {
    "collapsed": false
   },
   "outputs": [
    {
     "name": "stdout",
     "output_type": "stream",
     "text": [
      "[1.0 7.0 3.0 4.0]\n"
     ]
    }
   ],
   "source": [
    "print(a)"
   ]
  },
  {
   "cell_type": "code",
   "execution_count": 14,
   "metadata": {
    "collapsed": false
   },
   "outputs": [
    {
     "data": {
      "text/plain": [
       "<reboundx.params.c_double_Array_4 at 0x10ca97510>"
      ]
     },
     "execution_count": 14,
     "metadata": {},
     "output_type": "execute_result"
    }
   ],
   "source": [
    "q.contents"
   ]
  },
  {
   "cell_type": "code",
   "execution_count": 6,
   "metadata": {
    "collapsed": false
   },
   "outputs": [
    {
     "name": "stdout",
     "output_type": "stream",
     "text": [
      "<rebound.Orbit instance, a=4.0 e=0.7000000000000001 inc=0.0 Omega=0.0 omega=0.0 f=0.0>\n"
     ]
    }
   ],
   "source": [
    "print(sim.particles[1].params[\"test\"])"
   ]
  },
  {
   "cell_type": "code",
   "execution_count": 18,
   "metadata": {
    "collapsed": true
   },
   "outputs": [],
   "source": [
    "test = [sim.particles[1].orbit, sim.particles[2].orbit]"
   ]
  },
  {
   "cell_type": "code",
   "execution_count": 19,
   "metadata": {
    "collapsed": false
   },
   "outputs": [],
   "source": [
    "sim.particles[1].params[\"array\"] = test"
   ]
  },
  {
   "cell_type": "code",
   "execution_count": 20,
   "metadata": {
    "collapsed": false
   },
   "outputs": [],
   "source": [
    "q= sim.particles[1].params[\"array\"]"
   ]
  },
  {
   "cell_type": "code",
   "execution_count": 25,
   "metadata": {
    "collapsed": true
   },
   "outputs": [],
   "source": [
    "q = np.array([1.,2.,3.,4.], dtype=object)"
   ]
  },
  {
   "cell_type": "code",
   "execution_count": 26,
   "metadata": {
    "collapsed": false
   },
   "outputs": [
    {
     "data": {
      "text/plain": [
       "dtype('O')"
      ]
     },
     "execution_count": 26,
     "metadata": {},
     "output_type": "execute_result"
    }
   ],
   "source": [
    "q.dtype"
   ]
  },
  {
   "cell_type": "code",
   "execution_count": 9,
   "metadata": {
    "collapsed": false
   },
   "outputs": [],
   "source": [
    "import numpy as np\n",
    "a = np.array(test)"
   ]
  },
  {
   "cell_type": "code",
   "execution_count": 21,
   "metadata": {
    "collapsed": false
   },
   "outputs": [
    {
     "data": {
      "text/plain": [
       "'void'"
      ]
     },
     "execution_count": 21,
     "metadata": {},
     "output_type": "execute_result"
    }
   ],
   "source": [
    "type(a[0]).__name__"
   ]
  },
  {
   "cell_type": "code",
   "execution_count": 26,
   "metadata": {
    "collapsed": false
   },
   "outputs": [
    {
     "data": {
      "text/plain": [
       "numpy.void"
      ]
     },
     "execution_count": 26,
     "metadata": {},
     "output_type": "execute_result"
    }
   ],
   "source": [
    "type(a[0])"
   ]
  },
  {
   "cell_type": "code",
   "execution_count": 10,
   "metadata": {
    "collapsed": true
   },
   "outputs": [],
   "source": [
    "tempval = a"
   ]
  },
  {
   "cell_type": "code",
   "execution_count": 11,
   "metadata": {
    "collapsed": false
   },
   "outputs": [
    {
     "name": "stdout",
     "output_type": "stream",
     "text": [
      "hi\n",
      "0.8\n"
     ]
    }
   ],
   "source": [
    "try:\n",
    "    while True:\n",
    "        tempval = tempval[0]\n",
    "        if type(tempval).__name__ == 'void':\n",
    "            print('hi')\n",
    "except:\n",
    "    print(tempval)"
   ]
  },
  {
   "cell_type": "code",
   "execution_count": 30,
   "metadata": {
    "collapsed": false
   },
   "outputs": [
    {
     "ename": "SyntaxError",
     "evalue": "invalid syntax (<ipython-input-30-605ae39af4f2>, line 2)",
     "output_type": "error",
     "traceback": [
      "\u001b[0;36m  File \u001b[0;32m\"<ipython-input-30-605ae39af4f2>\"\u001b[0;36m, line \u001b[0;32m2\u001b[0m\n\u001b[0;31m    while tempval = tempval[0]:\u001b[0m\n\u001b[0m                  ^\u001b[0m\n\u001b[0;31mSyntaxError\u001b[0m\u001b[0;31m:\u001b[0m invalid syntax\n"
     ]
    }
   ],
   "source": [
    "try:\n",
    "    while True:\n",
    "        tempval = tempval[0]\n",
    "        if type(tempval).__name__ == 'void':\n",
    "            print('hi')\n",
    "except:\n",
    "    print(tempval)"
   ]
  },
  {
   "cell_type": "code",
   "execution_count": 8,
   "metadata": {
    "collapsed": false
   },
   "outputs": [],
   "source": [
    "import numpy as np\n",
    "ps[1].params[\"list\"] = test\n",
    "ps[1].params[\"array\"] = np.array(test, dtype=object)"
   ]
  },
  {
   "cell_type": "code",
   "execution_count": 15,
   "metadata": {
    "collapsed": false
   },
   "outputs": [
    {
     "data": {
      "text/plain": [
       "True"
      ]
     },
     "execution_count": 15,
     "metadata": {},
     "output_type": "execute_result"
    }
   ],
   "source": [
    "ps[1].params[\"list\"][0].e == ps[1].params[\"array\"][0].e"
   ]
  },
  {
   "cell_type": "code",
   "execution_count": 19,
   "metadata": {
    "collapsed": false
   },
   "outputs": [
    {
     "data": {
      "text/plain": [
       "0.20000000000000018"
      ]
     },
     "execution_count": 19,
     "metadata": {},
     "output_type": "execute_result"
    }
   ],
   "source": [
    "getattr(ps[1].params[\"list\"][0], 'e')"
   ]
  },
  {
   "cell_type": "code",
   "execution_count": 26,
   "metadata": {
    "collapsed": false
   },
   "outputs": [
    {
     "name": "stdout",
     "output_type": "stream",
     "text": [
      "True\n",
      "True\n",
      "True\n",
      "True\n",
      "True\n",
      "True\n",
      "True\n",
      "True\n",
      "True\n",
      "True\n",
      "True\n",
      "True\n",
      "True\n",
      "True\n",
      "True\n",
      "True\n"
     ]
    }
   ],
   "source": [
    "for a in [a for a in dir(rebound.Orbit) if not a.startswith('_')]:\n",
    "    print(getattr(ps[1].params[\"list\"][0], a) == getattr(ps[1].params[\"array\"][0], a))"
   ]
  },
  {
   "cell_type": "code",
   "execution_count": 33,
   "metadata": {
    "collapsed": false
   },
   "outputs": [
    {
     "data": {
      "text/plain": [
       "True"
      ]
     },
     "execution_count": 33,
     "metadata": {},
     "output_type": "execute_result"
    }
   ],
   "source": [
    "type(ps[1].orbit) == rebound.Orbit"
   ]
  },
  {
   "cell_type": "code",
   "execution_count": 1,
   "metadata": {
    "collapsed": false
   },
   "outputs": [],
   "source": [
    "import numpy as np\n",
    "b = np.array([[[1.,2.,3.],[4.,5.,6.]], [[1.,2.,3.],[4.,5.,6.]],[[1.,2.,3.],[4.,5.,6.]], [[1.,2.,3.],[4.,5.,    6.]]])"
   ]
  },
  {
   "cell_type": "code",
   "execution_count": 2,
   "metadata": {
    "collapsed": false
   },
   "outputs": [
    {
     "data": {
      "text/plain": [
       "array([[[ 1.,  2.,  3.],\n",
       "        [ 4.,  5.,  6.]],\n",
       "\n",
       "       [[ 1.,  2.,  3.],\n",
       "        [ 4.,  5.,  6.]],\n",
       "\n",
       "       [[ 1.,  2.,  3.],\n",
       "        [ 4.,  5.,  6.]],\n",
       "\n",
       "       [[ 1.,  2.,  3.],\n",
       "        [ 4.,  5.,  6.]]])"
      ]
     },
     "execution_count": 2,
     "metadata": {},
     "output_type": "execute_result"
    }
   ],
   "source": [
    "b"
   ]
  },
  {
   "cell_type": "code",
   "execution_count": 5,
   "metadata": {
    "collapsed": true
   },
   "outputs": [],
   "source": [
    "ps[1].params[\"bah\"] = b"
   ]
  },
  {
   "cell_type": "code",
   "execution_count": 8,
   "metadata": {
    "collapsed": false
   },
   "outputs": [],
   "source": [
    "q[1,1,1] = 29382"
   ]
  },
  {
   "cell_type": "code",
   "execution_count": 7,
   "metadata": {
    "collapsed": false
   },
   "outputs": [],
   "source": [
    "q = ps[1].params[\"bah\"]"
   ]
  },
  {
   "cell_type": "code",
   "execution_count": 9,
   "metadata": {
    "collapsed": false
   },
   "outputs": [
    {
     "data": {
      "text/plain": [
       "array([[[ 1.,  2.,  3.],\n",
       "        [ 4.,  5.,  6.]],\n",
       "\n",
       "       [[ 1.,  2.,  3.],\n",
       "        [ 4.,  5.,  6.]],\n",
       "\n",
       "       [[ 1.,  2.,  3.],\n",
       "        [ 4.,  5.,  6.]],\n",
       "\n",
       "       [[ 1.,  2.,  3.],\n",
       "        [ 4.,  5.,  6.]]])"
      ]
     },
     "execution_count": 9,
     "metadata": {},
     "output_type": "execute_result"
    }
   ],
   "source": [
    "ps[1].params[\"bah\"]"
   ]
  },
  {
   "cell_type": "code",
   "execution_count": 31,
   "metadata": {
    "collapsed": false
   },
   "outputs": [
    {
     "data": {
      "text/plain": [
       "rebound.simulation.Orbit"
      ]
     },
     "execution_count": 31,
     "metadata": {},
     "output_type": "execute_result"
    }
   ],
   "source": [
    "type(ps[1].params[\"list\"][0])"
   ]
  },
  {
   "cell_type": "code",
   "execution_count": 27,
   "metadata": {
    "collapsed": false
   },
   "outputs": [
    {
     "name": "stdout",
     "output_type": "stream",
     "text": [
      "False\n"
     ]
    }
   ],
   "source": [
    "print(ps[1].params[\"list\"][0] == ps[1].orbit)"
   ]
  },
  {
   "cell_type": "code",
   "execution_count": 30,
   "metadata": {
    "collapsed": false
   },
   "outputs": [
    {
     "data": {
      "text/plain": [
       "True"
      ]
     },
     "execution_count": 30,
     "metadata": {},
     "output_type": "execute_result"
    }
   ],
   "source": [
    "True == 1"
   ]
  },
  {
   "cell_type": "code",
   "execution_count": 28,
   "metadata": {
    "collapsed": false
   },
   "outputs": [
    {
     "name": "stdout",
     "output_type": "stream",
     "text": [
      "<rebound.Orbit instance, a=1.0000000000000002 e=0.20000000000000018 inc=0.0 Omega=0.0 omega=0.0 f=0.0>\n"
     ]
    }
   ],
   "source": [
    "print(ps[1].params[\"array\"][0])"
   ]
  },
  {
   "cell_type": "code",
   "execution_count": 29,
   "metadata": {
    "collapsed": false
   },
   "outputs": [
    {
     "name": "stdout",
     "output_type": "stream",
     "text": [
      "<rebound.Orbit instance, a=1.0000000000000002 e=0.20000000000000018 inc=0.0 Omega=0.0 omega=0.0 f=0.0>\n"
     ]
    }
   ],
   "source": [
    "print(ps[1].orbit)"
   ]
  },
  {
   "cell_type": "code",
   "execution_count": 16,
   "metadata": {
    "collapsed": false
   },
   "outputs": [
    {
     "name": "stdout",
     "output_type": "stream",
     "text": [
      "<rebound.Orbit instance, a=4.0 e=0.7000000000000001 inc=0.0 Omega=0.0 omega=0.0 f=0.0>\n"
     ]
    }
   ],
   "source": [
    "print(ps[0].params[\"orbits\"][1])"
   ]
  },
  {
   "cell_type": "code",
   "execution_count": 18,
   "metadata": {
    "collapsed": false
   },
   "outputs": [],
   "source": [
    "b = a(*c)"
   ]
  },
  {
   "cell_type": "code",
   "execution_count": 13,
   "metadata": {
    "collapsed": true
   },
   "outputs": [],
   "source": [
    "test[0].e = 37"
   ]
  },
  {
   "cell_type": "code",
   "execution_count": 26,
   "metadata": {
    "collapsed": false
   },
   "outputs": [],
   "source": [
    "import numpy as np\n",
    "a = np.array([[1.,2.],[3.,4.],[5.,6.]])"
   ]
  },
  {
   "cell_type": "code",
   "execution_count": 29,
   "metadata": {
    "collapsed": false
   },
   "outputs": [
    {
     "data": {
      "text/plain": [
       "[1.0, 2.0, 3.0, 4.0, 5.0, 6.0]"
      ]
     },
     "execution_count": 29,
     "metadata": {},
     "output_type": "execute_result"
    }
   ],
   "source": [
    "[i for i in a.flatten()]"
   ]
  },
  {
   "cell_type": "code",
   "execution_count": 30,
   "metadata": {
    "collapsed": false
   },
   "outputs": [
    {
     "data": {
      "text/plain": [
       "6"
      ]
     },
     "execution_count": 30,
     "metadata": {},
     "output_type": "execute_result"
    }
   ],
   "source": [
    "a.size"
   ]
  },
  {
   "cell_type": "code",
   "execution_count": 10,
   "metadata": {
    "collapsed": false
   },
   "outputs": [
    {
     "name": "stdout",
     "output_type": "stream",
     "text": [
      "<rebound.Orbit instance, a=1.0000000000000002 e=0.20000000000000018 inc=0.0 Omega=0.0 omega=0.0 f=0.0>\n"
     ]
    }
   ],
   "source": [
    "print(q[0])"
   ]
  },
  {
   "cell_type": "code",
   "execution_count": null,
   "metadata": {
    "collapsed": false
   },
   "outputs": [],
   "source": [
    "q = sim.particles[1].params[\"array\"]"
   ]
  },
  {
   "cell_type": "code",
   "execution_count": 15,
   "metadata": {
    "collapsed": false
   },
   "outputs": [
    {
     "data": {
      "text/plain": [
       "'list'"
      ]
     },
     "execution_count": 15,
     "metadata": {},
     "output_type": "execute_result"
    }
   ],
   "source": [
    "type(test).__name__"
   ]
  },
  {
   "cell_type": "code",
   "execution_count": 15,
   "metadata": {
    "collapsed": false
   },
   "outputs": [
    {
     "name": "stdout",
     "output_type": "stream",
     "text": [
      "<rebound.Orbit instance, a=2.1249758803e-314 e=2.1254975504e-314 inc=2.125347825e-314 Omega=2.1250259193e-314 omega=2.12462692e-314 f=0.0>\n"
     ]
    }
   ],
   "source": [
    "print(q.contents[0])"
   ]
  },
  {
   "cell_type": "code",
   "execution_count": 16,
   "metadata": {
    "collapsed": false
   },
   "outputs": [
    {
     "name": "stdout",
     "output_type": "stream",
     "text": [
      "<__main__.Orbit_Array_2 object at 0x10c9e3840>\n"
     ]
    }
   ],
   "source": [
    "print(q[0])"
   ]
  },
  {
   "cell_type": "code",
   "execution_count": 9,
   "metadata": {
    "collapsed": false
   },
   "outputs": [
    {
     "name": "stdout",
     "output_type": "stream",
     "text": [
      "<rebound.Orbit instance, a=2.162923098e-314 e=2.1629231456e-314 inc=2.162923098e-314 Omega=1e-323 omega=0.0 f=0.0>\n"
     ]
    }
   ],
   "source": [
    "print(q.contents[0])"
   ]
  },
  {
   "cell_type": "code",
   "execution_count": 10,
   "metadata": {
    "collapsed": false
   },
   "outputs": [
    {
     "data": {
      "text/plain": [
       "_ctypes.PyCStructType"
      ]
     },
     "execution_count": 10,
     "metadata": {},
     "output_type": "execute_result"
    }
   ],
   "source": [
    "type(rebound.Orbit)"
   ]
  },
  {
   "cell_type": "code",
   "execution_count": 10,
   "metadata": {
    "collapsed": true
   },
   "outputs": [],
   "source": [
    "from ctypes import *"
   ]
  },
  {
   "cell_type": "code",
   "execution_count": 11,
   "metadata": {
    "collapsed": true
   },
   "outputs": [],
   "source": [
    "a = rebound.Orbit*2"
   ]
  },
  {
   "cell_type": "code",
   "execution_count": 12,
   "metadata": {
    "collapsed": false
   },
   "outputs": [
    {
     "data": {
      "text/plain": [
       "_ctypes.PyCArrayType"
      ]
     },
     "execution_count": 12,
     "metadata": {},
     "output_type": "execute_result"
    }
   ],
   "source": [
    "type(a)"
   ]
  },
  {
   "cell_type": "code",
   "execution_count": 10,
   "metadata": {
    "collapsed": false
   },
   "outputs": [
    {
     "data": {
      "text/plain": [
       "dtype('V256')"
      ]
     },
     "execution_count": 10,
     "metadata": {},
     "output_type": "execute_result"
    }
   ],
   "source": [
    "q.dtype"
   ]
  },
  {
   "cell_type": "code",
   "execution_count": 12,
   "metadata": {
    "collapsed": false
   },
   "outputs": [],
   "source": [
    "import numpy as np\n",
    "x = np.array([1.,2.,3.], dtype=object)"
   ]
  },
  {
   "cell_type": "code",
   "execution_count": 13,
   "metadata": {
    "collapsed": false
   },
   "outputs": [
    {
     "data": {
      "text/plain": [
       "float"
      ]
     },
     "execution_count": 13,
     "metadata": {},
     "output_type": "execute_result"
    }
   ],
   "source": [
    "type(x[0])"
   ]
  },
  {
   "cell_type": "code",
   "execution_count": 9,
   "metadata": {
    "collapsed": true
   },
   "outputs": [],
   "source": [
    "import numpy as np\n",
    "a = np.array([1.,2.,3.])"
   ]
  },
  {
   "cell_type": "code",
   "execution_count": 10,
   "metadata": {
    "collapsed": false
   },
   "outputs": [
    {
     "name": "stdout",
     "output_type": "stream",
     "text": [
      "(3,)\n"
     ]
    }
   ],
   "source": [
    "print(a.shape)"
   ]
  },
  {
   "cell_type": "code",
   "execution_count": 9,
   "metadata": {
    "collapsed": false
   },
   "outputs": [],
   "source": [
    "import numpy as np\n",
    "a = np.array(test, dtype=object)"
   ]
  },
  {
   "cell_type": "code",
   "execution_count": 10,
   "metadata": {
    "collapsed": false
   },
   "outputs": [
    {
     "data": {
      "text/plain": [
       "rebound.simulation.Orbit"
      ]
     },
     "execution_count": 10,
     "metadata": {},
     "output_type": "execute_result"
    }
   ],
   "source": [
    "type(a[0])"
   ]
  },
  {
   "cell_type": "code",
   "execution_count": 13,
   "metadata": {
    "collapsed": true
   },
   "outputs": [],
   "source": [
    "a = np.array([1.,2.,3.])"
   ]
  },
  {
   "cell_type": "code",
   "execution_count": 14,
   "metadata": {
    "collapsed": false
   },
   "outputs": [
    {
     "data": {
      "text/plain": [
       "numpy.float64"
      ]
     },
     "execution_count": 14,
     "metadata": {},
     "output_type": "execute_result"
    }
   ],
   "source": [
    "type(a[0])"
   ]
  },
  {
   "cell_type": "code",
   "execution_count": 15,
   "metadata": {
    "collapsed": false
   },
   "outputs": [
    {
     "data": {
      "text/plain": [
       "numpy.ndarray"
      ]
     },
     "execution_count": 15,
     "metadata": {},
     "output_type": "execute_result"
    }
   ],
   "source": [
    "type(a)"
   ]
  },
  {
   "cell_type": "code",
   "execution_count": 16,
   "metadata": {
    "collapsed": false
   },
   "outputs": [
    {
     "data": {
      "text/plain": [
       "'float64'"
      ]
     },
     "execution_count": 16,
     "metadata": {},
     "output_type": "execute_result"
    }
   ],
   "source": [
    "type(a[0]).__name__"
   ]
  },
  {
   "cell_type": "code",
   "execution_count": 17,
   "metadata": {
    "collapsed": false
   },
   "outputs": [
    {
     "data": {
      "text/plain": [
       "True"
      ]
     },
     "execution_count": 17,
     "metadata": {},
     "output_type": "execute_result"
    }
   ],
   "source": [
    "type(a) == np.ndarray"
   ]
  },
  {
   "cell_type": "code",
   "execution_count": 18,
   "metadata": {
    "collapsed": true
   },
   "outputs": [],
   "source": [
    "c = np.int64()"
   ]
  },
  {
   "cell_type": "code",
   "execution_count": 19,
   "metadata": {
    "collapsed": false
   },
   "outputs": [
    {
     "data": {
      "text/plain": [
       "numpy.int64"
      ]
     },
     "execution_count": 19,
     "metadata": {},
     "output_type": "execute_result"
    }
   ],
   "source": [
    "type(c)"
   ]
  },
  {
   "cell_type": "code",
   "execution_count": 20,
   "metadata": {
    "collapsed": false
   },
   "outputs": [
    {
     "data": {
      "text/plain": [
       "'int64'"
      ]
     },
     "execution_count": 20,
     "metadata": {},
     "output_type": "execute_result"
    }
   ],
   "source": [
    "type(c).__name__"
   ]
  },
  {
   "cell_type": "code",
   "execution_count": 21,
   "metadata": {
    "collapsed": false
   },
   "outputs": [
    {
     "data": {
      "text/plain": [
       "'ndarray'"
      ]
     },
     "execution_count": 21,
     "metadata": {},
     "output_type": "execute_result"
    }
   ],
   "source": [
    "type(a).__name__"
   ]
  },
  {
   "cell_type": "code",
   "execution_count": null,
   "metadata": {
    "collapsed": true
   },
   "outputs": [],
   "source": []
  }
 ],
 "metadata": {
  "kernelspec": {
   "display_name": "Python 3",
   "language": "python",
   "name": "python3"
  },
  "language_info": {
   "codemirror_mode": {
    "name": "ipython",
    "version": 3
   },
   "file_extension": ".py",
   "mimetype": "text/x-python",
   "name": "python",
   "nbconvert_exporter": "python",
   "pygments_lexer": "ipython3",
   "version": "3.5.1"
  }
 },
 "nbformat": 4,
 "nbformat_minor": 0
}
