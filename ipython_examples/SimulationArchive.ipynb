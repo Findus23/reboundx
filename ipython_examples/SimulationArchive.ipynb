{
 "cells": [
  {
   "cell_type": "markdown",
   "metadata": {},
   "source": [
    "# SimulationArchives with REBOUNDx\n",
    "\n",
    "We can reproduce `REBOUNDx` simulations with extra effects bit by bit with the `SimulationArchive` (see Rein & Tamayo 2017 for details), and make sure to read [SimulationArchive.ipynb](https://github.com/hannorein/rebound/blob/master/ipython_examples/SimulationArchive.ipynb) and [SimulationArchiveRestart.ipynb](https://github.com/hannorein/rebound/blob/master/ipython_examples/SimulationArchiveRestart.ipynb) first.\n",
    "\n",
    "However, this will only work under some conditions. In particular, for bit-by-bit reproducibility, one requires that:\n",
    "- All `REBOUNDx` effects in the simulation are machine independent (can't have, e.g., trig functions, pow or exp in implementation)\n",
    "- The effect and particle parameters cannot change throughout the simulation\n",
    "- Effects must remain on for the entire integration\n",
    "\n",
    "To use the `SimulationArchive` with REBOUNDx, we need to save a REBOUNDx binary [SavingAndLoadingSimulations.ipynb](https://github.com/dtamayo/reboundx/blob/master/ipython_examples/SavingAndLoadingSimulations.ipynb). Since we can't change effects or particle parameters, it doesn't matter at what point we save this binary (we will just need it to load the `SimulationArchive`). Here we do a `WHFAST` integration with the symplectic `gr_potential` implementation for general relativity corrections. We set up the simulation like we usually would:"
   ]
  },
  {
   "cell_type": "code",
   "execution_count": 2,
   "metadata": {},
   "outputs": [],
   "source": [
    "import rebound\n",
    "import reboundx\n",
    "from reboundx import constants\n",
    "\n",
    "sim = rebound.Simulation()\n",
    "sim.add(m=1.)\n",
    "sim.add(m=1e-3, a=1., e=0.2)\n",
    "sim.add(m=1e-3, a=1.9)\n",
    "sim.move_to_com()\n",
    "sim.dt = sim.particles[1].P*0.05  # timestep is 5% of orbital period\n",
    "sim.integrator = \"whfast\"\n",
    "rebx = reboundx.Extras(sim)\n",
    "gr = rebx.load_force(\"gr_potential\")\n",
    "rebx.add_force(gr)\n",
    "gr.params[\"c\"] = constants.C\n",
    "rebx.save(\"rebxarchive.bin\")"
   ]
  },
  {
   "cell_type": "markdown",
   "metadata": {},
   "source": [
    "We now set up the `SimulationArchive` and integrate like we normally would ([SimulationArchive.ipynb](https://github.com/hannorein/rebound/blob/master/ipython_examples/SimulationArchive.ipynb)):"
   ]
  },
  {
   "cell_type": "code",
   "execution_count": 3,
   "metadata": {},
   "outputs": [],
   "source": [
    "sim.automateSimulationArchive(\"archive.bin\", interval=1e3, deletefile=True)\n",
    "sim.integrate(1.e6)"
   ]
  },
  {
   "cell_type": "markdown",
   "metadata": {},
   "source": [
    "Once we're ready to inspect our simulation, we just have to make sure to pass the `REBOUNDx` binary when creating the SimulationArchive to make sure the right effects and particle parameters are loaded:"
   ]
  },
  {
   "cell_type": "markdown",
   "metadata": {},
   "source": [
    "NEED TO UPDATE REBOUND WHEN READY TO RELEASE NEW VERSION"
   ]
  },
  {
   "cell_type": "code",
   "execution_count": 4,
   "metadata": {},
   "outputs": [],
   "source": [
    "sa = rebound.SimulationArchive(\"archive.bin\", rebxfilename = \"rebxarchive.bin\")"
   ]
  },
  {
   "cell_type": "markdown",
   "metadata": {},
   "source": [
    "We now create a different simulation from a snapshot in the `SimulationArchive` halfway through:"
   ]
  },
  {
   "cell_type": "code",
   "execution_count": 5,
   "metadata": {},
   "outputs": [
    {
     "ename": "AttributeError",
     "evalue": "type object 'Extras' has no attribute 'from_file'",
     "output_type": "error",
     "traceback": [
      "\u001b[0;31m---------------------------------------------------------------------------\u001b[0m",
      "\u001b[0;31mAttributeError\u001b[0m                            Traceback (most recent call last)",
      "\u001b[0;32m<ipython-input-5-3ec8f1b6c0d7>\u001b[0m in \u001b[0;36m<module>\u001b[0;34m()\u001b[0m\n\u001b[0;32m----> 1\u001b[0;31m \u001b[0msim2\u001b[0m \u001b[0;34m=\u001b[0m \u001b[0msa\u001b[0m\u001b[0;34m[\u001b[0m\u001b[0;36m500\u001b[0m\u001b[0;34m]\u001b[0m\u001b[0;34m\u001b[0m\u001b[0;34m\u001b[0m\u001b[0m\n\u001b[0m\u001b[1;32m      2\u001b[0m \u001b[0msim2\u001b[0m\u001b[0;34m.\u001b[0m\u001b[0mt\u001b[0m\u001b[0;34m\u001b[0m\u001b[0;34m\u001b[0m\u001b[0m\n",
      "\u001b[0;32m~/Documents/workspace/rebound/rebound/simulationarchive.py\u001b[0m in \u001b[0;36m__getitem__\u001b[0;34m(self, key)\u001b[0m\n\u001b[1;32m    129\u001b[0m         \u001b[0;32mif\u001b[0m \u001b[0mself\u001b[0m\u001b[0;34m.\u001b[0m\u001b[0mrebxfilename\u001b[0m\u001b[0;34m:\u001b[0m\u001b[0;34m\u001b[0m\u001b[0;34m\u001b[0m\u001b[0m\n\u001b[1;32m    130\u001b[0m             \u001b[0;32mimport\u001b[0m \u001b[0mreboundx\u001b[0m\u001b[0;34m\u001b[0m\u001b[0;34m\u001b[0m\u001b[0m\n\u001b[0;32m--> 131\u001b[0;31m             \u001b[0mrebx\u001b[0m \u001b[0;34m=\u001b[0m \u001b[0mreboundx\u001b[0m\u001b[0;34m.\u001b[0m\u001b[0mExtras\u001b[0m\u001b[0;34m.\u001b[0m\u001b[0mfrom_file\u001b[0m\u001b[0;34m(\u001b[0m\u001b[0msim\u001b[0m\u001b[0;34m,\u001b[0m \u001b[0mself\u001b[0m\u001b[0;34m.\u001b[0m\u001b[0mrebxfilename\u001b[0m\u001b[0;34m)\u001b[0m\u001b[0;34m\u001b[0m\u001b[0;34m\u001b[0m\u001b[0m\n\u001b[0m\u001b[1;32m    132\u001b[0m         \u001b[0;32mfor\u001b[0m \u001b[0mmajorerror\u001b[0m\u001b[0;34m,\u001b[0m \u001b[0mvalue\u001b[0m\u001b[0;34m,\u001b[0m \u001b[0mmessage\u001b[0m \u001b[0;32min\u001b[0m \u001b[0mBINARY_WARNINGS\u001b[0m\u001b[0;34m:\u001b[0m\u001b[0;34m\u001b[0m\u001b[0;34m\u001b[0m\u001b[0m\n\u001b[1;32m    133\u001b[0m             \u001b[0;32mif\u001b[0m \u001b[0mw\u001b[0m\u001b[0;34m.\u001b[0m\u001b[0mvalue\u001b[0m \u001b[0;34m&\u001b[0m \u001b[0mvalue\u001b[0m\u001b[0;34m:\u001b[0m\u001b[0;34m\u001b[0m\u001b[0;34m\u001b[0m\u001b[0m\n",
      "\u001b[0;31mAttributeError\u001b[0m: type object 'Extras' has no attribute 'from_file'"
     ]
    }
   ],
   "source": [
    "sim2 = sa[500]\n",
    "sim2.t"
   ]
  },
  {
   "cell_type": "markdown",
   "metadata": {},
   "source": [
    "We now integrate our loaded simulation to the same time as above (1.e6):"
   ]
  },
  {
   "cell_type": "code",
   "execution_count": 5,
   "metadata": {},
   "outputs": [],
   "source": [
    "sim2.integrate(1.e6)"
   ]
  },
  {
   "cell_type": "markdown",
   "metadata": {},
   "source": [
    "and see that we obtain exactly the same particle positions in the original and reloaded simulations:"
   ]
  },
  {
   "cell_type": "code",
   "execution_count": 6,
   "metadata": {},
   "outputs": [
    {
     "name": "stdout",
     "output_type": "stream",
     "text": [
      "---------------------------------\n",
      "REBOUND version:     \t3.6.0\n",
      "REBOUND built on:    \tApr 30 2018 16:16:45\n",
      "Number of particles: \t3\n",
      "Selected integrator: \twhfast\n",
      "Simulation time:     \t1.0000000000000000e+06\n",
      "Current timestep:    \t0.314002\n",
      "---------------------------------\n",
      "<rebound.Particle object, m=1.0 x=-0.0014987963241971539 y=-0.0014917351797036247 z=0.0 vx=0.0007039109566575868 vy=-0.0011135638373821828 vz=0.0>\n",
      "<rebound.Particle object, m=0.001 x=1.1053065651230365 y=-0.1700490029501357 z=0.0 vx=0.06434682422898898 vy=0.8839299105090552 vz=0.0>\n",
      "<rebound.Particle object, m=0.001 x=0.3934898042957868 y=1.6617841712978205 z=0.0 vx=-0.7682577808864995 vy=0.22963392687287965 vz=0.0>\n",
      "---------------------------------\n"
     ]
    }
   ],
   "source": [
    "sim.status()"
   ]
  },
  {
   "cell_type": "code",
   "execution_count": 7,
   "metadata": {},
   "outputs": [
    {
     "name": "stdout",
     "output_type": "stream",
     "text": [
      "---------------------------------\n",
      "REBOUND version:     \t3.6.0\n",
      "REBOUND built on:    \tApr 30 2018 16:16:45\n",
      "Number of particles: \t3\n",
      "Selected integrator: \twhfast\n",
      "Simulation time:     \t1.0000000000000000e+06\n",
      "Current timestep:    \t0.314002\n",
      "---------------------------------\n",
      "<rebound.Particle object, m=1.0 x=-0.0014987963241971539 y=-0.0014917351797036247 z=0.0 vx=0.0007039109566575868 vy=-0.0011135638373821828 vz=0.0>\n",
      "<rebound.Particle object, m=0.001 x=1.1053065651230365 y=-0.1700490029501357 z=0.0 vx=0.06434682422898898 vy=0.8839299105090552 vz=0.0>\n",
      "<rebound.Particle object, m=0.001 x=0.3934898042957868 y=1.6617841712978205 z=0.0 vx=-0.7682577808864995 vy=0.22963392687287965 vz=0.0>\n",
      "---------------------------------\n"
     ]
    }
   ],
   "source": [
    "sim2.status()"
   ]
  }
 ],
 "metadata": {
  "kernelspec": {
   "display_name": "Python 3",
   "language": "python",
   "name": "python3"
  },
  "language_info": {
   "codemirror_mode": {
    "name": "ipython",
    "version": 3
   },
   "file_extension": ".py",
   "mimetype": "text/x-python",
   "name": "python",
   "nbconvert_exporter": "python",
   "pygments_lexer": "ipython3",
   "version": "3.7.1"
  }
 },
 "nbformat": 4,
 "nbformat_minor": 1
}
