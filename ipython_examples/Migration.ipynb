{
 "cells": [
  {
   "cell_type": "markdown",
   "metadata": {},
   "source": [
    "#Migration\n",
    "\n",
    "For modifying orbital elements, REBOUNDx offers two implementations.  `modify_orbits_direct` directly calculates orbital elements and modifies those, while `modify_orbits_forces` applies forces that when orbit-averaged yield the desired behavior.  We are currently working on a paper that considers when each one might be more appropriate.  We begin importing `rebound` and `reboundx` and setting up a simple simulation of two planets on initially eccentric and inclined orbits:"
   ]
  },
  {
   "cell_type": "code",
   "execution_count": 1,
   "metadata": {
    "collapsed": false
   },
   "outputs": [],
   "source": [
    "import rebound\n",
    "import reboundx\n",
    "import numpy as np\n",
    "sim = rebound.Simulation()\n",
    "ainner = 1.\n",
    "aouter = 10.\n",
    "e0 = 0.1\n",
    "inc0 = 0.1\n",
    "\n",
    "sim.add(m=1.)\n",
    "sim.add(m=1e-6,a=ainner,e=e0, inc=inc0)\n",
    "sim.add(m=1e-6,a=aouter,e=e0, inc=inc0)\n",
    "sim.move_to_com() # Moves to the center of momentum frame"
   ]
  },
  {
   "cell_type": "markdown",
   "metadata": {},
   "source": [
    "Now let's set up `reboundx` and here we choose to add `modify_orbits_forces`, which implements the migration using forces:"
   ]
  },
  {
   "cell_type": "code",
   "execution_count": 2,
   "metadata": {
    "collapsed": false
   },
   "outputs": [],
   "source": [
    "rebx = reboundx.Extras(sim)\n",
    "rebx.add_modify_orbits_forces()"
   ]
  },
  {
   "cell_type": "markdown",
   "metadata": {},
   "source": [
    "Both `modify_orbits_forces` and `modify_orbits_direct` exponentially alter the semimajor axis, on an e-folding timescale `tau_a`.  **If `tau_a` < 0, you get exponential damping, and for `tau_a` > 0, exponential growth, i.e.,**\n",
    "\\begin{equation}\n",
    "a = a_0e^{t/\\tau_a}\n",
    "\\end{equation}\n",
    "\n",
    "In general, each body will have different damping timescales.  By default all particles have timescales of infinity, i.e., no effect.  The units of time are set by the units of time in your simulation.\n",
    "\n",
    "Let's set a maximum time for our simulation, and give our two planets different (inward) migration timescales.  This can simply be done through:"
   ]
  },
  {
   "cell_type": "code",
   "execution_count": 3,
   "metadata": {
    "collapsed": true
   },
   "outputs": [],
   "source": [
    "tmax = 1.e3\n",
    "sim.particles[1].tau_a = -tmax/2.  # this is for particles[1]\n",
    "sim.particles[2].tau_a = -tmax     # this is for particles[2]"
   ]
  },
  {
   "cell_type": "markdown",
   "metadata": {},
   "source": [
    "Now we run the simulation like we would normally with REBOUND.  Here we store the semimajor axes at 1000 equally spaced intervals:"
   ]
  },
  {
   "cell_type": "code",
   "execution_count": 4,
   "metadata": {
    "collapsed": false
   },
   "outputs": [],
   "source": [
    "Nout = 1000\n",
    "a1,a2 = np.zeros(Nout), np.zeros(Nout)\n",
    "times = np.linspace(0.,tmax,Nout)\n",
    "for i,time in enumerate(times):\n",
    "    sim.integrate(time)\n",
    "    a1[i] = sim.particles[1].a\n",
    "    a2[i] = sim.particles[2].a"
   ]
  },
  {
   "cell_type": "markdown",
   "metadata": {},
   "source": [
    "Now let's plot it on a linear-log scale to check whether we get the expected exponential behavior.  We'll also overplot the expected exponential decays for comparison."
   ]
  },
  {
   "cell_type": "code",
   "execution_count": 5,
   "metadata": {
    "collapsed": false
   },
   "outputs": [
    {
     "data": {
      "text/plain": [
       "<matplotlib.text.Text at 0x108bcaba8>"
      ]
     },
     "execution_count": 5,
     "metadata": {},
     "output_type": "execute_result"
    },
    {
     "data": {
      "image/png": "[encoded data removed]",
      "text/plain": [
       "<matplotlib.figure.Figure at 0x1089a87b8>"
      ]
     },
     "metadata": {},
     "output_type": "display_data"
    }
   ],
   "source": [
    "a1pred = [ainner*np.e**(t/sim.particles[1].tau_a) for t in times]\n",
    "a2pred = [aouter*np.e**(t/sim.particles[2].tau_a) for t in times]\n",
    "\n",
    "%matplotlib inline\n",
    "import matplotlib.pyplot as plt\n",
    "fig = plt.figure(figsize=(15,5))\n",
    "ax = plt.subplot(111)\n",
    "ax.set_yscale('log')\n",
    "plt.plot(times,a1)\n",
    "plt.plot(times,a2)\n",
    "plt.plot(times,a1pred, 'r--')\n",
    "plt.plot(times,a2pred, 'r--')\n",
    "plt.axes().set_xlabel(\"Time\", fontsize=24)\n",
    "plt.axes().set_ylabel(\"Semimajor axis\", fontsize=24)"
   ]
  },
  {
   "cell_type": "markdown",
   "metadata": {
    "collapsed": true
   },
   "source": [
    "**Coordinate Systems**\n",
    "\n",
    "Everything in REBOUND by default uses jacobi coordinates.  If you would like to change the reference relative to which the particles are damped, you can set:"
   ]
  },
  {
   "cell_type": "code",
   "execution_count": 6,
   "metadata": {
    "collapsed": false
   },
   "outputs": [],
   "source": [
    "rebx.modify_orbits_forces.coordinates = rebx.coordinates[\"HELIOCENTRIC\"]"
   ]
  },
  {
   "cell_type": "markdown",
   "metadata": {},
   "source": [
    "for everything to be referenced to `sim.particles[0]`, or"
   ]
  },
  {
   "cell_type": "code",
   "execution_count": 7,
   "metadata": {
    "collapsed": false
   },
   "outputs": [],
   "source": [
    "rebx.modify_orbits_forces.coordinates = rebx.coordinates[\"BARYCENTRIC\"]"
   ]
  },
  {
   "cell_type": "markdown",
   "metadata": {},
   "source": [
    "to use the barycenter of the whole system.  Make sure to apply this to the actual modification you added, i.e., `modify_orbits_direct` vs. `modify_orbits_forces`."
   ]
  }
 ],
 "metadata": {
  "kernelspec": {
   "display_name": "Python 3",
   "language": "python",
   "name": "python3"
  },
  "language_info": {
   "codemirror_mode": {
    "name": "ipython",
    "version": 3
   },
   "file_extension": ".py",
   "mimetype": "text/x-python",
   "name": "python",
   "nbconvert_exporter": "python",
   "pygments_lexer": "ipython3",
   "version": "3.4.3"
  }
 },
 "nbformat": 4,
 "nbformat_minor": 0
}
